{
  "nbformat": 4,
  "nbformat_minor": 0,
  "metadata": {
    "colab": {
      "provenance": [],
      "gpuType": "T4",
      "include_colab_link": true
    },
    "kernelspec": {
      "name": "python3",
      "display_name": "Python 3"
    },
    "language_info": {
      "name": "python"
    },
    "accelerator": "GPU"
  },
  "cells": [
    {
      "cell_type": "markdown",
      "metadata": {
        "id": "view-in-github",
        "colab_type": "text"
      },
      "source": [
        "<a href=\"https://colab.research.google.com/github/vohoaidanh/IGDBenchmark/blob/main/notebook/DIRE_preprocess_images.ipynb\" target=\"_parent\"><img src=\"https://colab.research.google.com/assets/colab-badge.svg\" alt=\"Open In Colab\"/></a>"
      ]
    },
    {
      "cell_type": "code",
      "execution_count": 1,
      "metadata": {
        "colab": {
          "base_uri": "https://localhost:8080/"
        },
        "id": "QspwbLO_H_SF",
        "outputId": "ca9a52b4-ed42-474a-ad65-1a94cc733fef"
      },
      "outputs": [
        {
          "output_type": "stream",
          "name": "stdout",
          "text": [
            "Cloning into 'DIRE'...\n",
            "remote: Enumerating objects: 63, done.\u001b[K\n",
            "remote: Counting objects: 100% (63/63), done.\u001b[K\n",
            "remote: Compressing objects: 100% (56/56), done.\u001b[K\n",
            "remote: Total 63 (delta 7), reused 59 (delta 6), pack-reused 0\u001b[K\n",
            "Receiving objects: 100% (63/63), 1.95 MiB | 4.36 MiB/s, done.\n",
            "Resolving deltas: 100% (7/7), done.\n"
          ]
        }
      ],
      "source": [
        "!git clone https://github.com/ZhendongWang6/DIRE.git"
      ]
    },
    {
      "cell_type": "code",
      "source": [
        "from google.colab import drive\n",
        "drive.mount('/content/drive')"
      ],
      "metadata": {
        "id": "Dk-k6HPyAWy2",
        "outputId": "54c4cd5c-8125-40bc-edab-3c7919d3edea",
        "colab": {
          "base_uri": "https://localhost:8080/"
        }
      },
      "execution_count": 2,
      "outputs": [
        {
          "output_type": "stream",
          "name": "stdout",
          "text": [
            "Mounted at /content/drive\n"
          ]
        }
      ]
    },
    {
      "cell_type": "code",
      "source": [
        "!wget https://openaipublic.blob.core.windows.net/diffusion/jul-2021/256x256_diffusion_uncond.pt"
      ],
      "metadata": {
        "colab": {
          "base_uri": "https://localhost:8080/"
        },
        "id": "IFU_7d8vIZym",
        "outputId": "34e13ade-1665-465c-fc03-1a760ef53412"
      },
      "execution_count": 3,
      "outputs": [
        {
          "output_type": "stream",
          "name": "stdout",
          "text": [
            "--2024-04-24 01:24:35--  https://openaipublic.blob.core.windows.net/diffusion/jul-2021/256x256_diffusion_uncond.pt\n",
            "Resolving openaipublic.blob.core.windows.net (openaipublic.blob.core.windows.net)... 20.209.18.33\n",
            "Connecting to openaipublic.blob.core.windows.net (openaipublic.blob.core.windows.net)|20.209.18.33|:443... connected.\n",
            "HTTP request sent, awaiting response... 200 OK\n",
            "Length: 2211383297 (2.1G) [application/octet-stream]\n",
            "Saving to: ‘256x256_diffusion_uncond.pt’\n",
            "\n",
            "256x256_diffusion_u 100%[===================>]   2.06G  11.0MB/s    in 3m 32s  \n",
            "\n",
            "2024-04-24 01:28:09 (9.92 MB/s) - ‘256x256_diffusion_uncond.pt’ saved [2211383297/2211383297]\n",
            "\n"
          ]
        }
      ]
    },
    {
      "cell_type": "code",
      "source": [
        "import os\n",
        "os.makedirs('DIRE/models', exist_ok=True)\n",
        "import shutil\n",
        "shutil.move('/content/256x256_diffusion_uncond.pt', 'DIRE/models')\n"
      ],
      "metadata": {
        "id": "Cz-nMdqoAhTQ",
        "outputId": "5a2808ed-7f86-4347-bcbd-010b5e443fa3",
        "colab": {
          "base_uri": "https://localhost:8080/",
          "height": 35
        }
      },
      "execution_count": 4,
      "outputs": [
        {
          "output_type": "execute_result",
          "data": {
            "text/plain": [
              "'DIRE/models/256x256_diffusion_uncond.pt'"
            ],
            "application/vnd.google.colaboratory.intrinsic+json": {
              "type": "string"
            }
          },
          "metadata": {},
          "execution_count": 4
        }
      ]
    },
    {
      "cell_type": "code",
      "source": [
        "!pip install ftfy -q\n",
        "!pip install natsort -q\n",
        "!pip install tensorboardX -q\n",
        "!pip install blobfile -q\n",
        "!pip install mpi4py -q\n"
      ],
      "metadata": {
        "colab": {
          "base_uri": "https://localhost:8080/"
        },
        "id": "R3o1SjVbLQyP",
        "outputId": "fb3086e2-acd8-4a21-b817-48f6f2747971"
      },
      "execution_count": 5,
      "outputs": [
        {
          "output_type": "stream",
          "name": "stdout",
          "text": [
            "\u001b[2K     \u001b[90m━━━━━━━━━━━━━━━━━━━━━━━━━━━━━━━━━━━━━━━━\u001b[0m \u001b[32m54.4/54.4 kB\u001b[0m \u001b[31m1.7 MB/s\u001b[0m eta \u001b[36m0:00:00\u001b[0m\n",
            "\u001b[2K     \u001b[90m━━━━━━━━━━━━━━━━━━━━━━━━━━━━━━━━━━━━━━━━\u001b[0m \u001b[32m101.7/101.7 kB\u001b[0m \u001b[31m2.6 MB/s\u001b[0m eta \u001b[36m0:00:00\u001b[0m\n",
            "\u001b[2K     \u001b[90m━━━━━━━━━━━━━━━━━━━━━━━━━━━━━━━━━━━━━━━━\u001b[0m \u001b[32m73.7/73.7 kB\u001b[0m \u001b[31m1.8 MB/s\u001b[0m eta \u001b[36m0:00:00\u001b[0m\n",
            "\u001b[2K     \u001b[90m━━━━━━━━━━━━━━━━━━━━━━━━━━━━━━━━━━━━━━━━\u001b[0m \u001b[32m2.1/2.1 MB\u001b[0m \u001b[31m30.0 MB/s\u001b[0m eta \u001b[36m0:00:00\u001b[0m\n",
            "\u001b[2K     \u001b[90m━━━━━━━━━━━━━━━━━━━━━━━━━━━━━━━━━━━━━━━━\u001b[0m \u001b[32m2.4/2.4 MB\u001b[0m \u001b[31m23.0 MB/s\u001b[0m eta \u001b[36m0:00:00\u001b[0m\n",
            "\u001b[?25h  Installing build dependencies ... \u001b[?25l\u001b[?25hdone\n",
            "  Getting requirements to build wheel ... \u001b[?25l\u001b[?25hdone\n",
            "  Preparing metadata (pyproject.toml) ... \u001b[?25l\u001b[?25hdone\n",
            "  Building wheel for mpi4py (pyproject.toml) ... \u001b[?25l\u001b[?25hdone\n"
          ]
        }
      ]
    },
    {
      "cell_type": "code",
      "source": [
        "#@title Unzip dataset\n",
        "#!cp /content/drive/MyDrive/DATASETS/RealFakeDB_tiny.zip -d /content\n",
        "dataset_zip_file = '/content/drive/MyDrive/DATASETS/RealFakeDB512/RealFakeDB512s.zip' #@param {type:\"string\"}\n",
        "unzip_to = 'DIRE' #@param {type:\"string\"}\n",
        "!unzip -q $dataset_zip_file -d $unzip_to"
      ],
      "metadata": {
        "id": "XGNVy_QLJq9o"
      },
      "execution_count": 6,
      "outputs": []
    },
    {
      "cell_type": "code",
      "source": [
        "%cd DIRE"
      ],
      "metadata": {
        "colab": {
          "base_uri": "https://localhost:8080/"
        },
        "id": "l_4Sw1IgKuuk",
        "outputId": "9204ccf5-d014-4206-b33b-900890f850a1"
      },
      "execution_count": 7,
      "outputs": [
        {
          "output_type": "stream",
          "name": "stdout",
          "text": [
            "/content/DIRE\n"
          ]
        }
      ]
    },
    {
      "cell_type": "markdown",
      "source": [
        "#Process for test set\n",
        "(We need to remove all lines related to multi-GPU configuration in compe_dire.py before run)"
      ],
      "metadata": {
        "id": "CW5aayVZqmat"
      }
    },
    {
      "cell_type": "markdown",
      "source": [
        "#Process for train set"
      ],
      "metadata": {
        "id": "6cDw1NXuyFds"
      }
    },
    {
      "cell_type": "code",
      "source": [
        "import os\n",
        "image_list = []\n",
        "extensions = ['.jpg', '.png', '.gif', '.bmp', '.webp']  # Add more extensions as needed\n",
        "def getname(base_dir):\n",
        "    for dirpath, dirnames, filenames in os.walk(base_dir):\n",
        "        if len(filenames) > 0:\n",
        "            imgs = [filename for filename in filenames if any(ext in filename for ext in extensions)]\n",
        "            image_list.extend(imgs)\n",
        "    return image_list\n"
      ],
      "metadata": {
        "id": "OpOUxhLnzRwk"
      },
      "execution_count": 8,
      "outputs": []
    },
    {
      "cell_type": "code",
      "source": [
        "image_list=[]\n",
        "image_list = getname('/content/drive/MyDrive/DATASETS/DIRE/RealFakeDB512s/dire_test')\n"
      ],
      "metadata": {
        "id": "6UyTNUAQBkGU"
      },
      "execution_count": 11,
      "outputs": []
    },
    {
      "cell_type": "code",
      "source": [
        "len(image_list)"
      ],
      "metadata": {
        "id": "K_aTR_WPBuuE",
        "outputId": "a869a5b1-ad76-4771-9bbf-54e856b4856a",
        "colab": {
          "base_uri": "https://localhost:8080/"
        }
      },
      "execution_count": 12,
      "outputs": [
        {
          "output_type": "execute_result",
          "data": {
            "text/plain": [
              "0"
            ]
          },
          "metadata": {},
          "execution_count": 12
        }
      ]
    },
    {
      "cell_type": "code",
      "source": [
        "#@title Remove all items existed in $image_list before run\n",
        "data_dir = '/content/DIRE/RealFakeDB_tiny' #@param {type:\"string\"}\n",
        "c=0\n",
        "for dirpath, dirnames, filenames in os.walk(data_dir):\n",
        "    if len(filenames) >0:\n",
        "        for file in filenames:\n",
        "            if file in image_list:\n",
        "                c+=1\n",
        "                full_name = os.path.join(dirpath, file)\n",
        "                os.remove(full_name)\n",
        "                print('removed {}:{}:'.format(c,full_name))\n",
        "\n",
        "samples = len(os.listdir(data_dir + '/0_real')) + len(os.listdir(data_dir + '/1_fake'))\n",
        "print('num sample remain :', samples)"
      ],
      "metadata": {
        "id": "V2EgZO8X17iM",
        "cellView": "form"
      },
      "execution_count": null,
      "outputs": []
    },
    {
      "cell_type": "code",
      "source": [
        "#@title 1. Keep this tab alive to prevent Colab from disconnecting you { display-mode: \"form\" }\n",
        "\n",
        "#@markdown Press play on the music player that will appear below:\n",
        "%%html\n",
        "<audio src=\"https://oobabooga.github.io/silence.m4a\" controls>"
      ],
      "metadata": {
        "colab": {
          "base_uri": "https://localhost:8080/",
          "height": 61
        },
        "id": "f0LPnGR87RW8",
        "outputId": "cfef9f6f-faf9-40b7-b5e7-6898eeea859e"
      },
      "execution_count": 13,
      "outputs": [
        {
          "output_type": "display_data",
          "data": {
            "text/plain": [
              "<IPython.core.display.HTML object>"
            ],
            "text/html": [
              "<audio src=\"https://oobabooga.github.io/silence.m4a\" controls>\n"
            ]
          },
          "metadata": {}
        }
      ]
    },
    {
      "cell_type": "code",
      "source": [
        "# edit add wepb to        if \".\" in entry and ext.lower() in [\"jpg\", \"jpeg\", \"png\", \"gif\", \"webp\"]: in image_dataset.py gaussioan_diffusion\n",
        "\n",
        "!python guided-diffusion/compute_dire.py \\\n",
        "--model_path models/256x256_diffusion_uncond.pt \\\n",
        "--attention_resolutions 32,16,8 \\\n",
        "--class_cond False \\\n",
        "--diffusion_steps 1000 --dropout 0.1 --image_size 256 --learn_sigma True --noise_schedule linear --num_channels 256 \\\n",
        "--num_head_channels 64 --num_res_blocks 2 --resblock_updown True --use_fp16 True --use_scale_shift_norm True \\\n",
        "--images_dir /content/DIRE/RealFakeDB512s/test/0_real \\\n",
        "--recons_dir /content/drive/MyDrive/DATASETS/DIRE/RealFakeDB512s/recons_test/0_real \\\n",
        "--dire_dir /content/drive/MyDrive/DATASETS/DIRE/RealFakeDB512s/dire_test/0_real \\\n",
        "--batch_size 16 --num_samples 5000  --timestep_respacing ddim20 --use_ddim True \\\n",
        "--has_subfolder False"
      ],
      "metadata": {
        "id": "K51KzT6x1_DY",
        "outputId": "088f7f11-3a6a-40b6-b467-589300a1b4ad",
        "colab": {
          "base_uri": "https://localhost:8080/"
        }
      },
      "execution_count": null,
      "outputs": [
        {
          "output_type": "stream",
          "name": "stdout",
          "text": [
            "Logging to /content/drive/MyDrive/DATASETS/DIRE/RealFakeDB512s/recons_test/0_real\n",
            "Namespace(images_dir='/content/DIRE/RealFakeDB512s/test/0_real', recons_dir='/content/drive/MyDrive/DATASETS/DIRE/RealFakeDB512s/recons_test/0_real', dire_dir='/content/drive/MyDrive/DATASETS/DIRE/RealFakeDB512s/dire_test/0_real', clip_denoised=True, num_samples=5000, batch_size=16, use_ddim=True, model_path='models/256x256_diffusion_uncond.pt', real_step=0, continue_reverse=False, has_subfolder=False, image_size=256, num_channels=256, num_res_blocks=2, num_heads=4, num_heads_upsample=-1, num_head_channels=64, attention_resolutions='32,16,8', channel_mult='', dropout=0.1, class_cond=False, use_checkpoint=False, use_scale_shift_norm=True, resblock_updown=True, use_fp16=True, use_new_attention_order=False, learn_sigma=True, diffusion_steps=1000, noise_schedule='linear', timestep_respacing='ddim20', use_kl=False, predict_xstart=False, rescale_timesteps=False, rescale_learned_sigmas=False)\n",
            "have created model and diffusion\n",
            "have created data loader\n",
            "computing recons & DIRE ...\n",
            "dataset length: 5000\n",
            "/usr/lib/python3.10/multiprocessing/popen_fork.py:66: RuntimeWarning: os.fork() was called. os.fork() is incompatible with multithreaded code, and JAX is multithreaded, so this will likely lead to a deadlock.\n",
            "  self.pid = os.fork()\n",
            "have finished 16 samples\n",
            "have finished 32 samples\n",
            "have finished 48 samples\n",
            "have finished 64 samples\n",
            "have finished 80 samples\n",
            "have finished 96 samples\n",
            "have finished 112 samples\n"
          ]
        }
      ]
    },
    {
      "cell_type": "code",
      "source": [
        "root_dir = \"/content/DIRE/RealFakeDB512s/\" # @param {type:\"string\"}\n",
        "set_of_data = \"test\" # @param [\"train\", \"test\", \"val\"] {allow-input: true}\n",
        "class_name = \"1_fake\" # @param [\"0_real\", \"1_fake\"]\n",
        "num_samples = os.listdir(root_dir + set_of_data + '/' + class_name)\n",
        "# edit add wepb to        if \".\" in entry and ext.lower() in [\"jpg\", \"jpeg\", \"png\", \"gif\", \"webp\"]: in image_dataset.py gaussioan_diffusion\n",
        "images_dir = root_dir + set_of_data + '/' + class_name\n",
        "out_put = \"/content/drive/MyDrive/DATASETS/DIRE/RealFakeDB512s/\" # @param {type:\"string\"}\n",
        "recons_dir = out_put + f'recons_{set_of_data}/{class_name}'\n",
        "dire_dir = out_put + f'dire_{set_of_data}/{class_name}'\n",
        "print('images_dir:' ,images_dir)\n",
        "print('recons_dir:' ,recons_dir)\n",
        "print('dire_dir:' ,dire_dir)\n"
      ],
      "metadata": {
        "cellView": "form",
        "id": "PTR9cb2zyhVa"
      },
      "execution_count": null,
      "outputs": []
    },
    {
      "cell_type": "code",
      "source": [
        "!python guided-diffusion/compute_dire.py \\\n",
        "--model_path models/256x256_diffusion_uncond.pt \\\n",
        "--attention_resolutions 32,16,8 \\\n",
        "--class_cond False \\\n",
        "--diffusion_steps 1000 --dropout 0.1 --image_size 256 --learn_sigma True --noise_schedule linear --num_channels 256 \\\n",
        "--num_head_channels 64 --num_res_blocks 2 --resblock_updown True --use_fp16 True --use_scale_shift_norm True \\\n",
        "--images_dir $images_dir \\\n",
        "--recons_dir $recons_dir \\\n",
        "--dire_dir $dire_dir \\\n",
        "--batch_size 16 --num_samples $num_samples  --timestep_respacing ddim20 --use_ddim True \\\n",
        "--has_subfolder False"
      ],
      "metadata": {
        "id": "QV3O116V1wJJ"
      },
      "execution_count": null,
      "outputs": []
    }
  ]
}