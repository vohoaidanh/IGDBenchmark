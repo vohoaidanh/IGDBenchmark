{
  "nbformat": 4,
  "nbformat_minor": 0,
  "metadata": {
    "colab": {
      "provenance": []
    },
    "kernelspec": {
      "name": "python3",
      "display_name": "Python 3"
    },
    "language_info": {
      "name": "python"
    }
  },
  "cells": [
    {
      "cell_type": "markdown",
      "source": [
        "## AIGCDetectBenchmark\n"
      ],
      "metadata": {
        "id": "4bsPZQKgE3tX"
      }
    },
    {
      "cell_type": "code",
      "source": [
        "from google.colab import drive\n",
        "drive.mount('/content/drive')\n"
      ],
      "metadata": {
        "colab": {
          "base_uri": "https://localhost:8080/"
        },
        "id": "AR7UgjyUfRcg",
        "outputId": "74792675-c208-4d2c-c6c7-9971591abb30"
      },
      "execution_count": 1,
      "outputs": [
        {
          "output_type": "stream",
          "name": "stdout",
          "text": [
            "Mounted at /content/drive\n"
          ]
        }
      ]
    },
    {
      "cell_type": "code",
      "source": [
        "!pip install ftfy -q\n",
        "!pip install natsort -q\n",
        "!pip install tensorboardX -q\n",
        "!pip install blobfile -q\n",
        "#!pip install mpi4py -q\n",
        "!pip install grad-cam -q\n",
        "!pip install comet_ml"
      ],
      "metadata": {
        "id": "yZtRWDeMing8",
        "outputId": "556ffbe0-b161-4e12-a269-e56661491c20",
        "colab": {
          "base_uri": "https://localhost:8080/"
        }
      },
      "execution_count": 2,
      "outputs": [
        {
          "output_type": "stream",
          "name": "stdout",
          "text": [
            "\u001b[2K     \u001b[90m━━━━━━━━━━━━━━━━━━━━━━━━━━━━━━━━━━━━━━━━\u001b[0m \u001b[32m54.4/54.4 kB\u001b[0m \u001b[31m1.2 MB/s\u001b[0m eta \u001b[36m0:00:00\u001b[0m\n",
            "\u001b[2K     \u001b[90m━━━━━━━━━━━━━━━━━━━━━━━━━━━━━━━━━━━━━━━━\u001b[0m \u001b[32m101.7/101.7 kB\u001b[0m \u001b[31m2.2 MB/s\u001b[0m eta \u001b[36m0:00:00\u001b[0m\n",
            "\u001b[2K     \u001b[90m━━━━━━━━━━━━━━━━━━━━━━━━━━━━━━━━━━━━━━━━\u001b[0m \u001b[32m73.7/73.7 kB\u001b[0m \u001b[31m1.5 MB/s\u001b[0m eta \u001b[36m0:00:00\u001b[0m\n",
            "\u001b[2K     \u001b[90m━━━━━━━━━━━━━━━━━━━━━━━━━━━━━━━━━━━━━━━━\u001b[0m \u001b[32m2.1/2.1 MB\u001b[0m \u001b[31m27.0 MB/s\u001b[0m eta \u001b[36m0:00:00\u001b[0m\n",
            "\u001b[2K     \u001b[90m━━━━━━━━━━━━━━━━━━━━━━━━━━━━━━━━━━━━━━━━\u001b[0m \u001b[32m7.8/7.8 MB\u001b[0m \u001b[31m13.9 MB/s\u001b[0m eta \u001b[36m0:00:00\u001b[0m\n",
            "\u001b[?25h  Installing build dependencies ... \u001b[?25l\u001b[?25hdone\n",
            "  Getting requirements to build wheel ... \u001b[?25l\u001b[?25hdone\n",
            "  Preparing metadata (pyproject.toml) ... \u001b[?25l\u001b[?25hdone\n",
            "  Building wheel for grad-cam (pyproject.toml) ... \u001b[?25l\u001b[?25hdone\n"
          ]
        }
      ]
    },
    {
      "cell_type": "code",
      "source": [
        "!git clone https://github.com/PeterWang512/CNNDetection.git"
      ],
      "metadata": {
        "id": "zifFVnIwtuOR",
        "outputId": "1008ab4f-6adc-4042-ca7e-4d92e264224a",
        "colab": {
          "base_uri": "https://localhost:8080/"
        }
      },
      "execution_count": 3,
      "outputs": [
        {
          "output_type": "stream",
          "name": "stdout",
          "text": [
            "Cloning into 'CNNDetection'...\n",
            "remote: Enumerating objects: 632, done.\u001b[K\n",
            "remote: Counting objects: 100% (28/28), done.\u001b[K\n",
            "remote: Compressing objects: 100% (3/3), done.\u001b[K\n",
            "remote: Total 632 (delta 25), reused 25 (delta 25), pack-reused 604\u001b[K\n",
            "Receiving objects: 100% (632/632), 6.36 MiB | 13.98 MiB/s, done.\n",
            "Resolving deltas: 100% (100/100), done.\n"
          ]
        }
      ]
    },
    {
      "cell_type": "code",
      "source": [
        "!unzip -q /content/drive/MyDrive/DATASETS/Common/real_gen_dataset.zip -d /content"
      ],
      "metadata": {
        "id": "EetzlWY6t2_X"
      },
      "execution_count": 4,
      "outputs": []
    },
    {
      "cell_type": "code",
      "source": [
        "%cd /content/CNNDetection"
      ],
      "metadata": {
        "id": "n8A6PG8XuXuo",
        "outputId": "2e415cc1-759d-4412-b9ea-a9dffb7be2ef",
        "colab": {
          "base_uri": "https://localhost:8080/"
        }
      },
      "execution_count": 5,
      "outputs": [
        {
          "output_type": "stream",
          "name": "stdout",
          "text": [
            "/content/CNNDetection\n"
          ]
        }
      ]
    },
    {
      "cell_type": "code",
      "source": [
        "!python train.py --name blur_jpg_prob0.1 --blur_prob 0.1 --blur_sig 0.0,3.0 --jpg_prob 0.1 --jpg_method cv2,pil \\\n",
        "--jpg_qual 30,100 --dataroot ./real_gen_dataset/ \\\n",
        "--gpu_ids -1 \\\n",
        "--num_threads 0"
      ],
      "metadata": {
        "id": "4_uaTVmSuZKh",
        "outputId": "e3e1de51-6eb1-4a3f-c369-998f0f0c1c79",
        "colab": {
          "base_uri": "https://localhost:8080/"
        }
      },
      "execution_count": 14,
      "outputs": [
        {
          "output_type": "stream",
          "name": "stdout",
          "text": [
            "----------------- Options ---------------\n",
            "                     arch: res50                         \n",
            "               batch_size: 64                            \n",
            "                    beta1: 0.9                           \n",
            "                blur_prob: 0.1                           \t[default: 0]\n",
            "                 blur_sig: 0.0,3.0                       \t[default: 0.5]\n",
            "          checkpoints_dir: ./checkpoints                 \n",
            "                class_bal: False                         \n",
            "                  classes:                               \n",
            "           continue_train: False                         \n",
            "                 cropSize: 224                           \n",
            "                 data_aug: False                         \n",
            "                 dataroot: ./real_gen_dataset/           \t[default: ./dataset/]\n",
            "          earlystop_epoch: 5                             \n",
            "                    epoch: latest                        \n",
            "              epoch_count: 1                             \n",
            "                  gpu_ids: -1                            \t[default: 0]\n",
            "                init_gain: 0.02                          \n",
            "                init_type: normal                        \n",
            "                  isTrain: True                          \t[default: None]\n",
            "               jpg_method: cv2,pil                       \t[default: cv2]\n",
            "                 jpg_prob: 0.1                           \t[default: 0]\n",
            "                 jpg_qual: 30,100                        \t[default: 75]\n",
            "               last_epoch: -1                            \n",
            "                 loadSize: 256                           \n",
            "                loss_freq: 400                           \n",
            "                       lr: 0.0001                        \n",
            "                     mode: binary                        \n",
            "                     name: blur_jpg_prob0.1              \t[default: experiment_name]\n",
            "                new_optim: False                         \n",
            "                    niter: 10000                         \n",
            "                  no_flip: False                         \n",
            "              num_threads: 0                             \t[default: 4]\n",
            "                    optim: adam                          \n",
            "           resize_or_crop: scale_and_crop                \n",
            "                rz_interp: bilinear                      \n",
            "          save_epoch_freq: 20                            \n",
            "         save_latest_freq: 2000                          \n",
            "           serial_batches: False                         \n",
            "                   suffix:                               \n",
            "              train_split: train                         \n",
            "                val_split: val                           \n",
            "----------------- End -------------------\n",
            "#training images = 56\n",
            "Traceback (most recent call last):\n",
            "  File \"/content/CNNDetection/train.py\", line 60, in <module>\n",
            "    model.optimize_parameters()\n",
            "  File \"/content/CNNDetection/networks/trainer.py\", line 59, in optimize_parameters\n",
            "    self.forward()\n",
            "  File \"/content/CNNDetection/networks/trainer.py\", line 53, in forward\n",
            "    self.output = self.model(self.input)\n",
            "  File \"/usr/local/lib/python3.10/dist-packages/torch/nn/modules/module.py\", line 1511, in _wrapped_call_impl\n",
            "    return self._call_impl(*args, **kwargs)\n",
            "  File \"/usr/local/lib/python3.10/dist-packages/torch/nn/modules/module.py\", line 1520, in _call_impl\n",
            "    return forward_call(*args, **kwargs)\n",
            "  File \"/content/CNNDetection/networks/resnet.py\", line 155, in forward\n",
            "    x = self.layer1(x)\n",
            "  File \"/usr/local/lib/python3.10/dist-packages/torch/nn/modules/module.py\", line 1511, in _wrapped_call_impl\n",
            "    return self._call_impl(*args, **kwargs)\n",
            "  File \"/usr/local/lib/python3.10/dist-packages/torch/nn/modules/module.py\", line 1520, in _call_impl\n",
            "    return forward_call(*args, **kwargs)\n",
            "  File \"/usr/local/lib/python3.10/dist-packages/torch/nn/modules/container.py\", line 217, in forward\n",
            "    input = module(input)\n",
            "  File \"/usr/local/lib/python3.10/dist-packages/torch/nn/modules/module.py\", line 1511, in _wrapped_call_impl\n",
            "    return self._call_impl(*args, **kwargs)\n",
            "  File \"/usr/local/lib/python3.10/dist-packages/torch/nn/modules/module.py\", line 1520, in _call_impl\n",
            "    return forward_call(*args, **kwargs)\n",
            "  File \"/content/CNNDetection/networks/resnet.py\", line 83, in forward\n",
            "    out = self.conv2(out)\n",
            "  File \"/usr/local/lib/python3.10/dist-packages/torch/nn/modules/module.py\", line 1511, in _wrapped_call_impl\n",
            "    return self._call_impl(*args, **kwargs)\n",
            "  File \"/usr/local/lib/python3.10/dist-packages/torch/nn/modules/module.py\", line 1520, in _call_impl\n",
            "    return forward_call(*args, **kwargs)\n",
            "  File \"/usr/local/lib/python3.10/dist-packages/torch/nn/modules/conv.py\", line 460, in forward\n",
            "    return self._conv_forward(input, self.weight, self.bias)\n",
            "  File \"/usr/local/lib/python3.10/dist-packages/torch/nn/modules/conv.py\", line 456, in _conv_forward\n",
            "    return F.conv2d(input, weight, bias, self.stride,\n",
            "KeyboardInterrupt\n"
          ]
        }
      ]
    },
    {
      "cell_type": "code",
      "source": [
        "!zip -r CNNDetection.zip ."
      ],
      "metadata": {
        "id": "jQdtsKcVzjQB",
        "outputId": "62a41a46-7d99-4b92-91d6-1b510222f4ec",
        "colab": {
          "base_uri": "https://localhost:8080/"
        }
      },
      "execution_count": 16,
      "outputs": [
        {
          "output_type": "stream",
          "name": "stdout",
          "text": [
            "  adding: checkpoints/ (stored 0%)\n",
            "  adding: checkpoints/blur_jpg_prob0.1/ (stored 0%)\n",
            "  adding: checkpoints/blur_jpg_prob0.1/opt.txt (deflated 77%)\n",
            "  adding: checkpoints/blur_jpg_prob0.1/val/ (stored 0%)\n",
            "  adding: checkpoints/blur_jpg_prob0.1/val/events.out.tfevents.1713671339.d7e1c6ee3adb (stored 0%)\n",
            "  adding: checkpoints/blur_jpg_prob0.1/val/events.out.tfevents.1713671566.d7e1c6ee3adb (deflated 5%)\n",
            "  adding: checkpoints/blur_jpg_prob0.1/val/events.out.tfevents.1713671650.d7e1c6ee3adb (deflated 5%)\n",
            "  adding: checkpoints/blur_jpg_prob0.1/val/events.out.tfevents.1713671163.d7e1c6ee3adb (deflated 5%)\n",
            "  adding: checkpoints/blur_jpg_prob0.1/train/ (stored 0%)\n",
            "  adding: checkpoints/blur_jpg_prob0.1/train/events.out.tfevents.1713671339.d7e1c6ee3adb (stored 0%)\n",
            "  adding: checkpoints/blur_jpg_prob0.1/train/events.out.tfevents.1713671566.d7e1c6ee3adb (deflated 5%)\n",
            "  adding: checkpoints/blur_jpg_prob0.1/train/events.out.tfevents.1713671650.d7e1c6ee3adb (deflated 5%)\n",
            "  adding: checkpoints/blur_jpg_prob0.1/train/events.out.tfevents.1713671163.d7e1c6ee3adb (deflated 5%)\n",
            "  adding: LICENSE.txt (deflated 69%)\n",
            "  adding: __pycache__/ (stored 0%)\n",
            "  adding: __pycache__/util.cpython-310.pyc (deflated 34%)\n",
            "  adding: __pycache__/earlystop.cpython-310.pyc (deflated 46%)\n",
            "  adding: __pycache__/validate.cpython-310.pyc (deflated 36%)\n",
            "  adding: networks/ (stored 0%)\n",
            "  adding: networks/__pycache__/ (stored 0%)\n",
            "  adding: networks/__pycache__/__init__.cpython-310.pyc (deflated 24%)\n",
            "  adding: networks/__pycache__/resnet.cpython-310.pyc (deflated 56%)\n",
            "  adding: networks/__pycache__/trainer.cpython-310.pyc (deflated 44%)\n",
            "  adding: networks/__pycache__/base_model.cpython-310.pyc (deflated 43%)\n",
            "  adding: networks/trainer.py (deflated 66%)\n",
            "  adding: networks/lpf.py (deflated 76%)\n",
            "  adding: networks/resnet.py (deflated 78%)\n",
            "  adding: networks/__init__.py (stored 0%)\n",
            "  adding: networks/base_model.py (deflated 66%)\n",
            "  adding: networks/resnet_lpf.py (deflated 76%)\n",
            "  adding: train.py (deflated 67%)\n",
            "  adding: earlystop.py (deflated 64%)\n",
            "  adding: eval.py (deflated 52%)\n",
            "  adding: util.py (deflated 49%)\n",
            "  adding: demo.py (deflated 52%)\n",
            "  adding: weights/ (stored 0%)\n",
            "  adding: weights/download_weights.sh (deflated 46%)\n",
            "  adding: .git/ (stored 0%)\n",
            "  adding: .git/index (deflated 47%)\n",
            "  adding: .git/info/ (stored 0%)\n",
            "  adding: .git/info/exclude (deflated 28%)\n",
            "  adding: .git/config (deflated 30%)\n",
            "  adding: .git/hooks/ (stored 0%)\n",
            "  adding: .git/hooks/post-update.sample (deflated 27%)\n",
            "  adding: .git/hooks/pre-push.sample (deflated 49%)\n",
            "  adding: .git/hooks/prepare-commit-msg.sample (deflated 50%)\n",
            "  adding: .git/hooks/pre-commit.sample (deflated 45%)\n",
            "  adding: .git/hooks/fsmonitor-watchman.sample (deflated 62%)\n",
            "  adding: .git/hooks/pre-receive.sample (deflated 40%)\n",
            "  adding: .git/hooks/applypatch-msg.sample (deflated 42%)\n",
            "  adding: .git/hooks/pre-merge-commit.sample (deflated 39%)\n",
            "  adding: .git/hooks/update.sample (deflated 68%)\n",
            "  adding: .git/hooks/push-to-checkout.sample (deflated 55%)\n",
            "  adding: .git/hooks/pre-applypatch.sample (deflated 38%)\n",
            "  adding: .git/hooks/pre-rebase.sample (deflated 59%)\n",
            "  adding: .git/hooks/commit-msg.sample (deflated 44%)\n",
            "  adding: .git/packed-refs (deflated 34%)\n",
            "  adding: .git/description (deflated 14%)\n",
            "  adding: .git/refs/ (stored 0%)\n",
            "  adding: .git/refs/remotes/ (stored 0%)\n",
            "  adding: .git/refs/remotes/origin/ (stored 0%)\n",
            "  adding: .git/refs/remotes/origin/HEAD (stored 0%)\n",
            "  adding: .git/refs/tags/ (stored 0%)\n",
            "  adding: .git/refs/heads/ (stored 0%)\n",
            "  adding: .git/refs/heads/master (stored 0%)\n",
            "  adding: .git/branches/ (stored 0%)\n",
            "  adding: .git/logs/ (stored 0%)\n",
            "  adding: .git/logs/refs/ (stored 0%)\n",
            "  adding: .git/logs/refs/remotes/ (stored 0%)\n",
            "  adding: .git/logs/refs/remotes/origin/ (stored 0%)\n",
            "  adding: .git/logs/refs/remotes/origin/HEAD (deflated 28%)\n",
            "  adding: .git/logs/refs/heads/ (stored 0%)\n",
            "  adding: .git/logs/refs/heads/master (deflated 28%)\n",
            "  adding: .git/logs/HEAD (deflated 28%)\n",
            "  adding: .git/HEAD (stored 0%)\n",
            "  adding: .git/objects/ (stored 0%)\n",
            "  adding: .git/objects/info/ (stored 0%)\n",
            "  adding: .git/objects/pack/ (stored 0%)\n",
            "  adding: .git/objects/pack/pack-e1594b895033862aff04414cb00d70417681d7d6.pack (deflated 0%)\n",
            "  adding: .git/objects/pack/pack-e1594b895033862aff04414cb00d70417681d7d6.idx (deflated 3%)\n",
            "  adding: dataset/ (stored 0%)\n",
            "  adding: dataset/test/ (stored 0%)\n",
            "  adding: dataset/test/download_testset.sh (deflated 34%)\n",
            "  adding: dataset/val/ (stored 0%)\n",
            "  adding: dataset/val/download_valset.sh (deflated 33%)\n",
            "  adding: dataset/train/ (stored 0%)\n",
            "  adding: dataset/train/download_trainset.sh (deflated 34%)\n",
            "  adding: .ipynb_checkpoints/ (stored 0%)\n",
            "  adding: examples/ (stored 0%)\n",
            "  adding: examples/realfakedir/ (stored 0%)\n",
            "  adding: examples/realfakedir/0_real/ (stored 0%)\n",
            "  adding: examples/realfakedir/0_real/real.png (deflated 0%)\n",
            "  adding: examples/realfakedir/1_fake/ (stored 0%)\n",
            "  adding: examples/realfakedir/1_fake/fake.png (deflated 0%)\n",
            "  adding: examples/real.png (deflated 0%)\n",
            "  adding: examples/fake.png (deflated 0%)\n",
            "  adding: data/ (stored 0%)\n",
            "  adding: data/__pycache__/ (stored 0%)\n",
            "  adding: data/__pycache__/__init__.cpython-310.pyc (deflated 38%)\n",
            "  adding: data/__pycache__/datasets.cpython-310.pyc (deflated 48%)\n",
            "  adding: data/datasets.py (deflated 66%)\n",
            "  adding: data/__init__.py (deflated 63%)\n",
            "  adding: README.md (deflated 60%)\n",
            "  adding: eval_config.py (deflated 44%)\n",
            "  adding: options/ (stored 0%)\n",
            "  adding: options/__pycache__/ (stored 0%)\n",
            "  adding: options/__pycache__/__init__.cpython-310.pyc (deflated 27%)\n",
            "  adding: options/__pycache__/test_options.cpython-310.pyc (deflated 37%)\n",
            "  adding: options/__pycache__/train_options.cpython-310.pyc (deflated 44%)\n",
            "  adding: options/__pycache__/base_options.cpython-310.pyc (deflated 45%)\n",
            "  adding: options/train_options.py (deflated 68%)\n",
            "  adding: options/__init__.py (stored 0%)\n",
            "  adding: options/test_options.py (deflated 57%)\n",
            "  adding: options/base_options.py (deflated 68%)\n",
            "  adding: demo_dir.py (deflated 62%)\n",
            "  adding: requirements.txt (deflated 7%)\n",
            "  adding: validate.py (deflated 61%)\n"
          ]
        }
      ]
    }
  ]
}