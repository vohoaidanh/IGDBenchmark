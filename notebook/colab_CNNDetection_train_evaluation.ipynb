{
  "nbformat": 4,
  "nbformat_minor": 0,
  "metadata": {
    "colab": {
      "provenance": [],
      "gpuType": "T4",
      "include_colab_link": true
    },
    "kernelspec": {
      "name": "python3",
      "display_name": "Python 3"
    },
    "language_info": {
      "name": "python"
    },
    "accelerator": "GPU"
  },
  "cells": [
    {
      "cell_type": "markdown",
      "metadata": {
        "id": "view-in-github",
        "colab_type": "text"
      },
      "source": [
        "<a href=\"https://colab.research.google.com/github/vohoaidanh/IGDBenchmark/blob/main/notebook/colab_CNNDetection_train_evaluation.ipynb\" target=\"_parent\"><img src=\"https://colab.research.google.com/assets/colab-badge.svg\" alt=\"Open In Colab\"/></a>"
      ]
    },
    {
      "cell_type": "markdown",
      "source": [
        "## IGDBenchmark\n"
      ],
      "metadata": {
        "id": "4bsPZQKgE3tX"
      }
    },
    {
      "cell_type": "code",
      "source": [
        "from google.colab import drive\n",
        "drive.mount('/content/drive')\n"
      ],
      "metadata": {
        "colab": {
          "base_uri": "https://localhost:8080/"
        },
        "id": "AR7UgjyUfRcg",
        "outputId": "3c637ab6-c391-4712-be58-a87153c8c5e2"
      },
      "execution_count": 1,
      "outputs": [
        {
          "output_type": "stream",
          "name": "stdout",
          "text": [
            "Mounted at /content/drive\n"
          ]
        }
      ]
    },
    {
      "cell_type": "code",
      "source": [
        "!git clone https://github.com/vohoaidanh/IGDBenchmark.git"
      ],
      "metadata": {
        "colab": {
          "base_uri": "https://localhost:8080/"
        },
        "id": "0JF2tF_z7k1K",
        "outputId": "3d5193aa-4dda-49d1-ccc8-6627903e0cd7"
      },
      "execution_count": 2,
      "outputs": [
        {
          "output_type": "stream",
          "name": "stdout",
          "text": [
            "Cloning into 'IGDBenchmark'...\n",
            "remote: Enumerating objects: 135, done.\u001b[K\n",
            "remote: Counting objects: 100% (135/135), done.\u001b[K\n",
            "remote: Compressing objects: 100% (76/76), done.\u001b[K\n",
            "remote: Total 135 (delta 55), reused 123 (delta 47), pack-reused 0\u001b[K\n",
            "Receiving objects: 100% (135/135), 217.57 KiB | 1.50 MiB/s, done.\n",
            "Resolving deltas: 100% (55/55), done.\n"
          ]
        }
      ]
    },
    {
      "cell_type": "code",
      "source": [
        "!pip install ftfy -q\n",
        "!pip install natsort -q\n",
        "!pip install tensorboardX -q\n",
        "!pip install blobfile -q\n",
        "#!pip install mpi4py -q\n",
        "#!pip install grad-cam -q\n",
        "!pip install comet_ml -q"
      ],
      "metadata": {
        "id": "yZtRWDeMing8",
        "outputId": "a574c4c1-d91a-4c07-cda5-04577c42cbdd",
        "colab": {
          "base_uri": "https://localhost:8080/"
        }
      },
      "execution_count": 3,
      "outputs": [
        {
          "output_type": "stream",
          "name": "stdout",
          "text": [
            "\u001b[2K     \u001b[90m━━━━━━━━━━━━━━━━━━━━━━━━━━━━━━━━━━━━━━━━\u001b[0m \u001b[32m54.4/54.4 kB\u001b[0m \u001b[31m2.4 MB/s\u001b[0m eta \u001b[36m0:00:00\u001b[0m\n",
            "\u001b[2K     \u001b[90m━━━━━━━━━━━━━━━━━━━━━━━━━━━━━━━━━━━━━━━━\u001b[0m \u001b[32m101.7/101.7 kB\u001b[0m \u001b[31m2.6 MB/s\u001b[0m eta \u001b[36m0:00:00\u001b[0m\n",
            "\u001b[2K     \u001b[90m━━━━━━━━━━━━━━━━━━━━━━━━━━━━━━━━━━━━━━━━\u001b[0m \u001b[32m73.7/73.7 kB\u001b[0m \u001b[31m2.8 MB/s\u001b[0m eta \u001b[36m0:00:00\u001b[0m\n",
            "\u001b[2K     \u001b[90m━━━━━━━━━━━━━━━━━━━━━━━━━━━━━━━━━━━━━━━━\u001b[0m \u001b[32m2.1/2.1 MB\u001b[0m \u001b[31m46.1 MB/s\u001b[0m eta \u001b[36m0:00:00\u001b[0m\n",
            "\u001b[2K     \u001b[90m━━━━━━━━━━━━━━━━━━━━━━━━━━━━━━━━━━━━━━━━\u001b[0m \u001b[32m645.1/645.1 kB\u001b[0m \u001b[31m10.1 MB/s\u001b[0m eta \u001b[36m0:00:00\u001b[0m\n",
            "\u001b[2K     \u001b[90m━━━━━━━━━━━━━━━━━━━━━━━━━━━━━━━━━━━━━━━━\u001b[0m \u001b[32m3.3/3.3 MB\u001b[0m \u001b[31m24.3 MB/s\u001b[0m eta \u001b[36m0:00:00\u001b[0m\n",
            "\u001b[2K     \u001b[90m━━━━━━━━━━━━━━━━━━━━━━━━━━━━━━━━━━━━━━━━\u001b[0m \u001b[32m54.5/54.5 kB\u001b[0m \u001b[31m6.8 MB/s\u001b[0m eta \u001b[36m0:00:00\u001b[0m\n",
            "\u001b[2K     \u001b[90m━━━━━━━━━━━━━━━━━━━━━━━━━━━━━━━━━━━━━━━━\u001b[0m \u001b[32m267.1/267.1 kB\u001b[0m \u001b[31m29.0 MB/s\u001b[0m eta \u001b[36m0:00:00\u001b[0m\n",
            "\u001b[2K     \u001b[90m━━━━━━━━━━━━━━━━━━━━━━━━━━━━━━━━━━━━━━━━\u001b[0m \u001b[32m137.9/137.9 kB\u001b[0m \u001b[31m17.3 MB/s\u001b[0m eta \u001b[36m0:00:00\u001b[0m\n",
            "\u001b[2K     \u001b[90m━━━━━━━━━━━━━━━━━━━━━━━━━━━━━━━━━━━━━━━━\u001b[0m \u001b[32m54.3/54.3 kB\u001b[0m \u001b[31m7.5 MB/s\u001b[0m eta \u001b[36m0:00:00\u001b[0m\n",
            "\u001b[2K     \u001b[90m━━━━━━━━━━━━━━━━━━━━━━━━━━━━━━━━━━━━━━━━\u001b[0m \u001b[32m514.7/514.7 kB\u001b[0m \u001b[31m23.6 MB/s\u001b[0m eta \u001b[36m0:00:00\u001b[0m\n",
            "\u001b[?25h"
          ]
        }
      ]
    },
    {
      "cell_type": "code",
      "source": [
        "!unzip -q /content/drive/MyDrive/DATASETS/RealFakeDB512/RealFakeDB512s.zip -d /content/IGDBenchmark/RealFakeDB512s\n"
      ],
      "metadata": {
        "id": "EetzlWY6t2_X"
      },
      "execution_count": 4,
      "outputs": []
    },
    {
      "cell_type": "code",
      "source": [
        "%cd /content/IGDBenchmark"
      ],
      "metadata": {
        "id": "n8A6PG8XuXuo",
        "outputId": "6ad12ed8-dd70-467b-b718-1e8314ab6918",
        "colab": {
          "base_uri": "https://localhost:8080/"
        }
      },
      "execution_count": 5,
      "outputs": [
        {
          "output_type": "stream",
          "name": "stdout",
          "text": [
            "/content/IGDBenchmark\n"
          ]
        }
      ]
    },
    {
      "cell_type": "code",
      "source": [
        "# @title Training parameters\n",
        "# @markdown Type to this form.\n",
        "\n",
        "gpu_ids = 0  # @param {type: \"number\"}\n",
        "dataroot = './RealFakeDB512s/'  # @param {type: \"string\"}\n",
        "checkpoints_dir = './checkpoints'  # @param {type: \"string\"}\n",
        "batch_size = 64  # @param {type: \"number\"}\n",
        "niter = 30  # @param {type: \"number\"}\n",
        "num_threads = 0 # @param {type: \"number\"}\n",
        "save_epoch_freq = 5  # @param {type: \"number\"}\n",
        "\n",
        "# @markdown Set [epoch_start] if [--continue_train] is used.\n",
        "epoch_start = 0  # @param {type: \"number\"}\n",
        "# @markdown ---\n"
      ],
      "metadata": {
        "cellView": "form",
        "id": "W1YDp5Ki93kA"
      },
      "execution_count": 6,
      "outputs": []
    },
    {
      "cell_type": "code",
      "source": [
        "!python train.py --name CNNDetection_prob_0.1 --blur_prob 0.1 --blur_sig 0.0,3.0 --jpg_prob 0.1 --jpg_method cv2,pil \\\n",
        "--jpg_qual 30,100 \\\n",
        "--dataroot $dataroot \\\n",
        "--checkpoints_dir $checkpoints_dir \\\n",
        "--gpu_ids $gpu_ids \\\n",
        "--num_threads $num_threads \\\n",
        "--batch_size $batch_size \\\n",
        "--lr 0.0001 \\\n",
        "--train_split train \\\n",
        "--val_split val \\\n",
        "--niter $niter \\\n",
        "--save_epoch_freq $save_epoch_freq"
      ],
      "metadata": {
        "id": "4_uaTVmSuZKh",
        "outputId": "e4abd500-b29c-41b7-ff44-605d1d131b42",
        "colab": {
          "base_uri": "https://localhost:8080/"
        }
      },
      "execution_count": 12,
      "outputs": [
        {
          "output_type": "stream",
          "name": "stdout",
          "text": [
            "----------------- Options ---------------\n",
            "                     arch: res50                         \n",
            "               batch_size: 64                            \n",
            "                    beta1: 0.9                           \n",
            "                blur_prob: 0.1                           \t[default: 0]\n",
            "                 blur_sig: 0.0,3.0                       \t[default: 0.5]\n",
            "          checkpoints_dir: ./checkpoints                 \n",
            "                class_bal: False                         \n",
            "                  classes:                               \n",
            "           continue_train: False                         \n",
            "                 cropSize: 224                           \n",
            "                 data_aug: False                         \n",
            "                 dataroot: ./RealFakeDB512s/             \t[default: ./dataset/]\n",
            "            detect_method: CNNDetection                  \n",
            "          earlystop_epoch: 5                             \n",
            "                    epoch: latest                        \n",
            "              epoch_count: 1                             \n",
            "                  gpu_ids: 0                             \n",
            "                init_gain: 0.02                          \n",
            "                init_type: normal                        \n",
            "                  isTrain: True                          \t[default: None]\n",
            "               jpg_method: cv2,pil                       \t[default: cv2]\n",
            "                 jpg_prob: 0.1                           \t[default: 0]\n",
            "                 jpg_qual: 30,100                        \t[default: 75]\n",
            "               last_epoch: -1                            \n",
            "                 loadSize: 256                           \n",
            "                loss_freq: 400                           \n",
            "                       lr: 0.0001                        \n",
            "                     mode: binary                        \n",
            "                     name: CNNDetection_prob_0.1         \t[default: experiment_name]\n",
            "                new_optim: False                         \n",
            "                    niter: 30                            \t[default: 10000]\n",
            "                  no_flip: False                         \n",
            "              num_threads: 0                             \t[default: 4]\n",
            "                    optim: adam                          \n",
            "           resize_or_crop: scale_and_crop                \n",
            "                rz_interp: bilinear                      \n",
            "          save_epoch_freq: 20                            \n",
            "         save_latest_freq: 2000                          \n",
            "           serial_batches: False                         \n",
            "                   suffix:                               \n",
            "              train_split: train                         \n",
            "                val_split: val                           \n",
            "----------------- End -------------------\n",
            "\u001b[1;38;5;39mCOMET INFO:\u001b[0m Valid Comet API Key saved in /root/.comet.config (set COMET_CONFIG to change where it is saved).\n",
            "/usr/lib/python3.10/multiprocessing/popen_fork.py:66: RuntimeWarning: os.fork() was called. os.fork() is incompatible with multithreaded code, and JAX is multithreaded, so this will likely lead to a deadlock.\n",
            "  self.pid = os.fork()\n",
            "\u001b[1;38;5;39mCOMET INFO:\u001b[0m Experiment is live on comet.com \u001b[38;5;39mhttps://www.comet.com/danhvohoai2-gmail-com/ai-generated-image-detection/6e890ad2e8f646d488b5dfe7f8c7ccff\u001b[0m\n",
            "\n",
            "#training images = 625\n",
            "Downloading: \"https://download.pytorch.org/models/resnet50-19c8e357.pth\" to /root/.cache/torch/hub/checkpoints/resnet50-19c8e357.pth\n",
            "100%|██████████| 97.8M/97.8M [00:00<00:00, 261MB/s]\n",
            "Train loss: 0.06119212508201599 at step: 400\n",
            "saving the model at the end of epoch 0, iters 625\n",
            "(Val @ epoch 0) acc: 0.9683333333333334; ap: 0.9961004489045082\n",
            "Validation accuracy increased (-inf --> 0.968333).  Saving model ...\n",
            "Train loss: 0.020597750321030617 at step: 800\n",
            "Train loss: 0.039471957832574844 at step: 1200\n",
            "(Val @ epoch 1) acc: 0.9728333333333333; ap: 0.9966665644295092\n",
            "Validation accuracy increased (0.968333 --> 0.972833).  Saving model ...\n",
            "Train loss: 0.05503091216087341 at step: 1600\n",
            "(Val @ epoch 2) acc: 0.9498333333333333; ap: 0.9955213466295602\n",
            "EarlyStopping counter: 1 out of 5\n",
            "Train loss: 0.06506472080945969 at step: 2000\n",
            "saving the latest model CNNDetection_prob_0.1 (epoch 3, model.total_steps 2000)\n",
            "Train loss: 0.01577935367822647 at step: 2400\n",
            "(Val @ epoch 3) acc: 0.9685; ap: 0.9964059596364073\n",
            "EarlyStopping counter: 2 out of 5\n",
            "Train loss: 0.007415595930069685 at step: 2800\n",
            "(Val @ epoch 4) acc: 0.9681666666666666; ap: 0.9971301129683432\n",
            "EarlyStopping counter: 3 out of 5\n",
            "Train loss: 0.14082154631614685 at step: 3200\n",
            "Train loss: 0.2740122377872467 at step: 3600\n",
            "(Val @ epoch 5) acc: 0.9733333333333334; ap: 0.997137589744475\n",
            "EarlyStopping counter: 4 out of 5\n",
            "Train loss: 0.021915171295404434 at step: 4000\n",
            "saving the latest model CNNDetection_prob_0.1 (epoch 6, model.total_steps 4000)\n",
            "(Val @ epoch 6) acc: 0.9695; ap: 0.9963254464663666\n",
            "EarlyStopping counter: 5 out of 5\n",
            "Learning rate dropped by 10, continue training...\n",
            "Train loss: 0.0477667860686779 at step: 4400\n",
            "Train loss: 0.00622953474521637 at step: 4800\n",
            "(Val @ epoch 7) acc: 0.9826666666666667; ap: 0.9984751551059218\n",
            "Validation accuracy increased (-inf --> 0.982667).  Saving model ...\n",
            "Train loss: 0.059595488011837006 at step: 5200\n",
            "Train loss: 0.032423827797174454 at step: 5600\n",
            "(Val @ epoch 8) acc: 0.987; ap: 0.9987725513625143\n",
            "Validation accuracy increased (0.982667 --> 0.987000).  Saving model ...\n",
            "Train loss: 0.000885221641510725 at step: 6000\n",
            "saving the latest model CNNDetection_prob_0.1 (epoch 9, model.total_steps 6000)\n",
            "(Val @ epoch 9) acc: 0.986; ap: 0.9988030503878106\n",
            "EarlyStopping counter: 1 out of 5\n",
            "Train loss: 0.010836713947355747 at step: 6400\n",
            "Train loss: 0.001784629188477993 at step: 6800\n",
            "(Val @ epoch 10) acc: 0.985; ap: 0.9988857612070265\n",
            "EarlyStopping counter: 2 out of 5\n",
            "Train loss: 0.0005779520724900067 at step: 7200\n",
            "(Val @ epoch 11) acc: 0.987; ap: 0.9988411748222359\n",
            "EarlyStopping counter: 3 out of 5\n",
            "Train loss: 0.0018906568875536323 at step: 7600\n",
            "Train loss: 0.0010306888725608587 at step: 8000\n",
            "saving the latest model CNNDetection_prob_0.1 (epoch 12, model.total_steps 8000)\n",
            "(Val @ epoch 12) acc: 0.9873333333333333; ap: 0.9990058974930407\n",
            "EarlyStopping counter: 4 out of 5\n",
            "Train loss: 0.009018565528094769 at step: 8400\n",
            "(Val @ epoch 13) acc: 0.9845; ap: 0.998746022620259\n",
            "EarlyStopping counter: 5 out of 5\n",
            "Learning rate dropped by 10, continue training...\n",
            "Train loss: 0.0021857330575585365 at step: 8800\n",
            "Train loss: 0.013208571821451187 at step: 9200\n",
            "(Val @ epoch 14) acc: 0.9865; ap: 0.9988923600442452\n",
            "Validation accuracy increased (-inf --> 0.986500).  Saving model ...\n",
            "Train loss: 0.025893134996294975 at step: 9600\n",
            "Train loss: 0.007892665453255177 at step: 10000\n",
            "saving the latest model CNNDetection_prob_0.1 (epoch 15, model.total_steps 10000)\n",
            "(Val @ epoch 15) acc: 0.9851666666666666; ap: 0.9989983620974096\n",
            "EarlyStopping counter: 1 out of 5\n",
            "Train loss: 0.02825494296848774 at step: 10400\n",
            "(Val @ epoch 16) acc: 0.9873333333333333; ap: 0.9990726882158693\n",
            "EarlyStopping counter: 2 out of 5\n",
            "Train loss: 0.0021865000016987324 at step: 10800\n",
            "Train loss: 0.0015390559565275908 at step: 11200\n",
            "(Val @ epoch 17) acc: 0.9863333333333333; ap: 0.9989881254407977\n",
            "EarlyStopping counter: 3 out of 5\n",
            "Train loss: 0.004259779118001461 at step: 11600\n",
            "(Val @ epoch 18) acc: 0.986; ap: 0.9990648685164606\n",
            "EarlyStopping counter: 4 out of 5\n",
            "Train loss: 0.0058283256366848946 at step: 12000\n",
            "saving the latest model CNNDetection_prob_0.1 (epoch 19, model.total_steps 12000)\n",
            "Train loss: 0.0008349128183908761 at step: 12400\n",
            "(Val @ epoch 19) acc: 0.9868333333333333; ap: 0.9989988321055927\n",
            "EarlyStopping counter: 5 out of 5\n",
            "Early stopping.\n",
            "\u001b[1;38;5;39mCOMET INFO:\u001b[0m ---------------------------------------------------------------------------------------\n",
            "\u001b[1;38;5;39mCOMET INFO:\u001b[0m Comet.ml Experiment Summary\n",
            "\u001b[1;38;5;39mCOMET INFO:\u001b[0m ---------------------------------------------------------------------------------------\n",
            "\u001b[1;38;5;39mCOMET INFO:\u001b[0m   Data:\n",
            "\u001b[1;38;5;39mCOMET INFO:\u001b[0m     display_summary_level : 1\n",
            "\u001b[1;38;5;39mCOMET INFO:\u001b[0m     name                  : impressed_capital_3791\n",
            "\u001b[1;38;5;39mCOMET INFO:\u001b[0m     url                   : \u001b[38;5;39mhttps://www.comet.com/danhvohoai2-gmail-com/ai-generated-image-detection/6e890ad2e8f646d488b5dfe7f8c7ccff\u001b[0m\n",
            "\u001b[1;38;5;39mCOMET INFO:\u001b[0m   Metrics [count] (min, max):\n",
            "\u001b[1;38;5;39mCOMET INFO:\u001b[0m     loss [1250]        : (5.932136991759762e-05, 0.7566641569137573)\n",
            "\u001b[1;38;5;39mCOMET INFO:\u001b[0m     val/TNR [20]       : (0.9563333333333334, 0.9913333333333333)\n",
            "\u001b[1;38;5;39mCOMET INFO:\u001b[0m     val/TPR [20]       : (0.9106666666666666, 0.988)\n",
            "\u001b[1;38;5;39mCOMET INFO:\u001b[0m     val/epoch_acc [20] : (0.9498333333333333, 0.9873333333333333)\n",
            "\u001b[1;38;5;39mCOMET INFO:\u001b[0m   Parameters:\n",
            "\u001b[1;38;5;39mCOMET INFO:\u001b[0m     Train params : {\"CropSize\": 224, \"batch_size\": 64, \"detect_method\": \"CNNDetection\", \"earlystop_epoch\": 5, \"epoch_count\": 1, \"last_epoch\": -1, \"loadSize\": 256, \"loss_freq\": 400, \"lr\": 0.0001, \"mode\": \"binary\", \"name\": \"CNNDetection_prob_0.1\", \"niter\": 30, \"optim\": \"adam\", \"save_epoch_freq\": 20, \"save_latest_freq\": 2000, \"train_split\": \"train\", \"val_split\": \"val\"}\n",
            "\u001b[1;38;5;39mCOMET INFO:\u001b[0m   Uploads:\n",
            "\u001b[1;38;5;39mCOMET INFO:\u001b[0m     confusion-matrix         : 20\n",
            "\u001b[1;38;5;39mCOMET INFO:\u001b[0m     environment details      : 1\n",
            "\u001b[1;38;5;39mCOMET INFO:\u001b[0m     filename                 : 1\n",
            "\u001b[1;38;5;39mCOMET INFO:\u001b[0m     git metadata             : 1\n",
            "\u001b[1;38;5;39mCOMET INFO:\u001b[0m     git-patch (uncompressed) : 1 (1.54 KB)\n",
            "\u001b[1;38;5;39mCOMET INFO:\u001b[0m     installed packages       : 1\n",
            "\u001b[1;38;5;39mCOMET INFO:\u001b[0m     model graph              : 1\n",
            "\u001b[1;38;5;39mCOMET INFO:\u001b[0m     os packages              : 1\n",
            "\u001b[1;38;5;39mCOMET INFO:\u001b[0m     source_code              : 1 (5.03 KB)\n",
            "\u001b[1;38;5;39mCOMET INFO:\u001b[0m \n",
            "\u001b[36m──────────────────────────────────────── \u001b[0m\u001b[1;36mNew Comet feature!\u001b[0m\u001b[36m ────────────────────────────────────────\u001b[0m\n",
            "Log your models to better track, deploy, share, and reproduce your work using: 'comet_ml.integration.pytorch.log_model'.\n",
            "Learn more at: https://comet.com/docs/v2/pytorch_log_model\n",
            "\n",
            "Hide this message by setting environment variable \"COMET_DISABLE_ANNOUNCEMENT=1\" \n",
            "\u001b[36m────────────────────────────────────────────────────────────────────────────────────────────────────\u001b[0m\n"
          ]
        }
      ]
    }
  ]
}