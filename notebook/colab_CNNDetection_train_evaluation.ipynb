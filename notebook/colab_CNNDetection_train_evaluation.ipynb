{
  "nbformat": 4,
  "nbformat_minor": 0,
  "metadata": {
    "colab": {
      "provenance": [],
      "gpuType": "T4",
      "include_colab_link": true
    },
    "kernelspec": {
      "name": "python3",
      "display_name": "Python 3"
    },
    "language_info": {
      "name": "python"
    },
    "accelerator": "GPU"
  },
  "cells": [
    {
      "cell_type": "markdown",
      "metadata": {
        "id": "view-in-github",
        "colab_type": "text"
      },
      "source": [
        "<a href=\"https://colab.research.google.com/github/vohoaidanh/IGDBenchmark/blob/main/notebook/colab_CNNDetection_train_evaluation.ipynb\" target=\"_parent\"><img src=\"https://colab.research.google.com/assets/colab-badge.svg\" alt=\"Open In Colab\"/></a>"
      ]
    },
    {
      "cell_type": "markdown",
      "source": [
        "## IGDBenchmark\n"
      ],
      "metadata": {
        "id": "4bsPZQKgE3tX"
      }
    },
    {
      "cell_type": "code",
      "source": [
        "from google.colab import drive\n",
        "drive.mount('/content/drive')\n"
      ],
      "metadata": {
        "colab": {
          "base_uri": "https://localhost:8080/"
        },
        "id": "AR7UgjyUfRcg",
        "outputId": "0e72fbf0-656e-43b0-f0ef-a29ba70d7017"
      },
      "execution_count": 1,
      "outputs": [
        {
          "output_type": "stream",
          "name": "stdout",
          "text": [
            "Mounted at /content/drive\n"
          ]
        }
      ]
    },
    {
      "cell_type": "code",
      "source": [
        "!git clone https://github.com/vohoaidanh/IGDBenchmark.git"
      ],
      "metadata": {
        "colab": {
          "base_uri": "https://localhost:8080/"
        },
        "id": "0JF2tF_z7k1K",
        "outputId": "35527482-6c0c-4a20-b061-b02057bc6a69"
      },
      "execution_count": 2,
      "outputs": [
        {
          "output_type": "stream",
          "name": "stdout",
          "text": [
            "Cloning into 'IGDBenchmark'...\n",
            "remote: Enumerating objects: 123, done.\u001b[K\n",
            "remote: Counting objects: 100% (123/123), done.\u001b[K\n",
            "remote: Compressing objects: 100% (67/67), done.\u001b[K\n",
            "remote: Total 123 (delta 47), reused 117 (delta 44), pack-reused 0\u001b[K\n",
            "Receiving objects: 100% (123/123), 214.23 KiB | 7.39 MiB/s, done.\n",
            "Resolving deltas: 100% (47/47), done.\n"
          ]
        }
      ]
    },
    {
      "cell_type": "code",
      "source": [
        "!pip install ftfy -q\n",
        "!pip install natsort -q\n",
        "!pip install tensorboardX -q\n",
        "!pip install blobfile -q\n",
        "#!pip install mpi4py -q\n",
        "!pip install grad-cam -q\n",
        "!pip install comet_ml -q"
      ],
      "metadata": {
        "id": "yZtRWDeMing8"
      },
      "execution_count": null,
      "outputs": []
    },
    {
      "cell_type": "code",
      "source": [
        "!unzip -q /content/drive/MyDrive/DATASETS/Common/real_gen_dataset.zip -d /content/IGDBenchmark"
      ],
      "metadata": {
        "id": "EetzlWY6t2_X"
      },
      "execution_count": 4,
      "outputs": []
    },
    {
      "cell_type": "code",
      "source": [
        "%cd /content/IGDBenchmark"
      ],
      "metadata": {
        "id": "n8A6PG8XuXuo",
        "outputId": "3c7739d9-3d90-4408-f708-e301dd1e508e",
        "colab": {
          "base_uri": "https://localhost:8080/"
        }
      },
      "execution_count": 5,
      "outputs": [
        {
          "output_type": "stream",
          "name": "stdout",
          "text": [
            "/content/IGDBenchmark\n"
          ]
        }
      ]
    },
    {
      "cell_type": "code",
      "source": [
        "# @title Training parameters\n",
        "# @markdown Type to this form.\n",
        "\n",
        "gpu_ids = 0  # @param {type: \"number\"}\n",
        "dataroot = 'real_gen_dataset'  # @param {type: \"string\"}\n",
        "checkpoints_dir = 'checkpoints'  # @param {type: \"string\"}\n",
        "batch_size = 64  # @param {type: \"number\"}\n",
        "niter = 2  # @param {type: \"number\"}\n",
        "\n",
        "# @markdown ---\n"
      ],
      "metadata": {
        "cellView": "form",
        "id": "W1YDp5Ki93kA"
      },
      "execution_count": 9,
      "outputs": []
    },
    {
      "cell_type": "code",
      "source": [
        "!python train.py --name CNNDetection_prob_0.1 --blur_prob 0.1 --blur_sig 0.0,3.0 --jpg_prob 0.1 --jpg_method cv2,pil \\\n",
        "--jpg_qual 30,100 \\\n",
        "--dataroot ./$dataroot/ \\\n",
        "--checkpoints_dir ./$checkpoints_dir \\\n",
        "--gpu_ids $gpu_ids \\\n",
        "--num_threads 0 \\\n",
        "--batch_size $batch_size \\\n",
        "--lr 0.0001 \\\n",
        "--train_split train \\\n",
        "--val_split val \\\n",
        "--niter $niter"
      ],
      "metadata": {
        "id": "4_uaTVmSuZKh",
        "outputId": "7d7488b6-d29c-4db8-b9bd-f20f9c99cf28",
        "colab": {
          "base_uri": "https://localhost:8080/"
        }
      },
      "execution_count": 10,
      "outputs": [
        {
          "output_type": "stream",
          "name": "stdout",
          "text": [
            "----------------- Options ---------------\n",
            "                     arch: res50                         \n",
            "               batch_size: 64                            \n",
            "                    beta1: 0.9                           \n",
            "                blur_prob: 0.1                           \t[default: 0]\n",
            "                 blur_sig: 0.0,3.0                       \t[default: 0.5]\n",
            "          checkpoints_dir: ./checkpoints                 \n",
            "                class_bal: False                         \n",
            "                  classes:                               \n",
            "           continue_train: False                         \n",
            "                 cropSize: 224                           \n",
            "                 data_aug: False                         \n",
            "                 dataroot: ./real_gen_dataset/           \t[default: ./dataset/]\n",
            "          earlystop_epoch: 5                             \n",
            "                    epoch: latest                        \n",
            "              epoch_count: 1                             \n",
            "                  gpu_ids: 0                             \n",
            "                init_gain: 0.02                          \n",
            "                init_type: normal                        \n",
            "                  isTrain: True                          \t[default: None]\n",
            "               jpg_method: cv2,pil                       \t[default: cv2]\n",
            "                 jpg_prob: 0.1                           \t[default: 0]\n",
            "                 jpg_qual: 30,100                        \t[default: 75]\n",
            "               last_epoch: -1                            \n",
            "                 loadSize: 256                           \n",
            "                loss_freq: 400                           \n",
            "                       lr: 0.0001                        \n",
            "                     mode: binary                        \n",
            "                     name: CNNDetection_prob_0.1         \t[default: experiment_name]\n",
            "                new_optim: False                         \n",
            "                    niter: 2                             \t[default: 10000]\n",
            "                  no_flip: False                         \n",
            "              num_threads: 0                             \t[default: 4]\n",
            "                    optim: adam                          \n",
            "           resize_or_crop: scale_and_crop                \n",
            "                rz_interp: bilinear                      \n",
            "          save_epoch_freq: 20                            \n",
            "         save_latest_freq: 2000                          \n",
            "           serial_batches: False                         \n",
            "                   suffix:                               \n",
            "              train_split: train                         \n",
            "                val_split: val                           \n",
            "----------------- End -------------------\n",
            "#training images = 56\n",
            "Traceback (most recent call last):\n",
            "  File \"/content/IGDBenchmark/train.py\", line 55, in <module>\n",
            "    for i, data in enumerate(data_loader):\n",
            "  File \"/usr/local/lib/python3.10/dist-packages/torch/utils/data/dataloader.py\", line 631, in __next__\n",
            "    data = self._next_data()\n",
            "  File \"/usr/local/lib/python3.10/dist-packages/torch/utils/data/dataloader.py\", line 675, in _next_data\n",
            "    data = self._dataset_fetcher.fetch(index)  # may raise StopIteration\n",
            "  File \"/usr/local/lib/python3.10/dist-packages/torch/utils/data/_utils/fetch.py\", line 51, in fetch\n",
            "    data = [self.dataset[idx] for idx in possibly_batched_index]\n",
            "  File \"/usr/local/lib/python3.10/dist-packages/torch/utils/data/_utils/fetch.py\", line 51, in <listcomp>\n",
            "    data = [self.dataset[idx] for idx in possibly_batched_index]\n",
            "  File \"/usr/local/lib/python3.10/dist-packages/torch/utils/data/dataset.py\", line 335, in __getitem__\n",
            "    return self.datasets[dataset_idx][sample_idx]\n",
            "  File \"/usr/local/lib/python3.10/dist-packages/torchvision/datasets/folder.py\", line 229, in __getitem__\n",
            "    sample = self.loader(path)\n",
            "  File \"/usr/local/lib/python3.10/dist-packages/torchvision/datasets/folder.py\", line 268, in default_loader\n",
            "    return pil_loader(path)\n",
            "  File \"/usr/local/lib/python3.10/dist-packages/torchvision/datasets/folder.py\", line 248, in pil_loader\n",
            "    return img.convert(\"RGB\")\n",
            "  File \"/usr/local/lib/python3.10/dist-packages/PIL/Image.py\", line 937, in convert\n",
            "    self.load()\n",
            "  File \"/usr/local/lib/python3.10/dist-packages/PIL/ImageFile.py\", line 269, in load\n",
            "    n, err_code = decoder.decode(b)\n",
            "KeyboardInterrupt\n"
          ]
        }
      ]
    }
  ]
}