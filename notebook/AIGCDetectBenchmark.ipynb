{
  "nbformat": 4,
  "nbformat_minor": 0,
  "metadata": {
    "colab": {
      "provenance": [],
      "gpuType": "T4",
      "name": "AIGCDetectBenchmark.ipynb",
      "include_colab_link": true
    },
    "kernelspec": {
      "name": "python3",
      "display_name": "Python 3"
    },
    "language_info": {
      "name": "python"
    },
    "accelerator": "GPU"
  },
  "cells": [
    {
      "cell_type": "markdown",
      "metadata": {
        "id": "view-in-github",
        "colab_type": "text"
      },
      "source": [
        "<a href=\"https://colab.research.google.com/github/vohoaidanh/IGDBenchmark/blob/main/notebook/AIGCDetectBenchmark.ipynb\" target=\"_parent\"><img src=\"https://colab.research.google.com/assets/colab-badge.svg\" alt=\"Open In Colab\"/></a>"
      ]
    },
    {
      "cell_type": "markdown",
      "source": [
        "## AIGCDetectBenchmark\n"
      ],
      "metadata": {
        "id": "4bsPZQKgE3tX"
      }
    },
    {
      "cell_type": "code",
      "source": [
        "from google.colab import drive\n",
        "drive.mount('/content/drive')\n"
      ],
      "metadata": {
        "colab": {
          "base_uri": "https://localhost:8080/"
        },
        "id": "AR7UgjyUfRcg",
        "outputId": "a256fbcd-b9ef-41b5-f008-969653ebe1a7"
      },
      "execution_count": null,
      "outputs": [
        {
          "output_type": "stream",
          "name": "stdout",
          "text": [
            "Mounted at /content/drive\n"
          ]
        }
      ]
    },
    {
      "cell_type": "code",
      "source": [
        "!pip install ftfy -q\n",
        "!pip install natsort -q\n",
        "!pip install tensorboardX -q\n",
        "!pip install blobfile -q\n",
        "!pip install mpi4py -q\n"
      ],
      "metadata": {
        "id": "yZtRWDeMing8",
        "outputId": "5d83d40e-05ac-4bbe-a5b5-29ea56eaaca5",
        "colab": {
          "base_uri": "https://localhost:8080/"
        }
      },
      "execution_count": null,
      "outputs": [
        {
          "output_type": "stream",
          "name": "stdout",
          "text": [
            "\u001b[2K     \u001b[90m━━━━━━━━━━━━━━━━━━━━━━━━━━━━━━━━━━━━━━━━\u001b[0m \u001b[32m54.4/54.4 kB\u001b[0m \u001b[31m816.6 kB/s\u001b[0m eta \u001b[36m0:00:00\u001b[0m\n",
            "\u001b[2K     \u001b[90m━━━━━━━━━━━━━━━━━━━━━━━━━━━━━━━━━━━━━━━━\u001b[0m \u001b[32m101.7/101.7 kB\u001b[0m \u001b[31m1.2 MB/s\u001b[0m eta \u001b[36m0:00:00\u001b[0m\n",
            "\u001b[2K     \u001b[90m━━━━━━━━━━━━━━━━━━━━━━━━━━━━━━━━━━━━━━━━\u001b[0m \u001b[32m73.7/73.7 kB\u001b[0m \u001b[31m1.3 MB/s\u001b[0m eta \u001b[36m0:00:00\u001b[0m\n",
            "\u001b[2K     \u001b[90m━━━━━━━━━━━━━━━━━━━━━━━━━━━━━━━━━━━━━━━━\u001b[0m \u001b[32m2.1/2.1 MB\u001b[0m \u001b[31m14.4 MB/s\u001b[0m eta \u001b[36m0:00:00\u001b[0m\n",
            "\u001b[2K     \u001b[90m━━━━━━━━━━━━━━━━━━━━━━━━━━━━━━━━━━━━━━━━\u001b[0m \u001b[32m2.4/2.4 MB\u001b[0m \u001b[31m9.2 MB/s\u001b[0m eta \u001b[36m0:00:00\u001b[0m\n",
            "\u001b[?25h  Installing build dependencies ... \u001b[?25l\u001b[?25hdone\n",
            "  Getting requirements to build wheel ... \u001b[?25l\u001b[?25hdone\n",
            "  Preparing metadata (pyproject.toml) ... \u001b[?25l\u001b[?25hdone\n",
            "  Building wheel for mpi4py (pyproject.toml) ... \u001b[?25l\u001b[?25hdone\n"
          ]
        }
      ]
    },
    {
      "cell_type": "code",
      "execution_count": null,
      "metadata": {
        "id": "Q4Tiyb4jExor",
        "outputId": "bdf03bf9-8943-4029-84d8-edecf00f1e30",
        "colab": {
          "base_uri": "https://localhost:8080/"
        }
      },
      "outputs": [
        {
          "output_type": "stream",
          "name": "stdout",
          "text": [
            "Cloning into 'AIGCDetectBenchmark'...\n",
            "remote: Enumerating objects: 390, done.\u001b[K\n",
            "remote: Counting objects: 100% (390/390), done.\u001b[K\n",
            "remote: Compressing objects: 100% (332/332), done.\u001b[K\n",
            "remote: Total 390 (delta 142), reused 267 (delta 51), pack-reused 0\u001b[K\n",
            "Receiving objects: 100% (390/390), 3.95 MiB | 14.51 MiB/s, done.\n",
            "Resolving deltas: 100% (142/142), done.\n"
          ]
        }
      ],
      "source": [
        "!git clone https://github.com/Ekko-zn/AIGCDetectBenchmark.git"
      ]
    },
    {
      "cell_type": "code",
      "source": [
        "%cd /content/AIGCDetectBenchmark"
      ],
      "metadata": {
        "colab": {
          "base_uri": "https://localhost:8080/"
        },
        "id": "n9HXSjhchADX",
        "outputId": "e7c10e63-1b0e-4c5f-8ea6-cdc24bd92a72"
      },
      "execution_count": null,
      "outputs": [
        {
          "output_type": "stream",
          "name": "stdout",
          "text": [
            "/content/AIGCDetectBenchmark\n"
          ]
        }
      ]
    },
    {
      "cell_type": "code",
      "source": [
        "!unzip -q /content/drive/MyDrive/DATASETS/Common/RealFakeDB_tiny_test.zip -d /content/AIGCDetectBenchmark/RealFakeDB_tiny_test"
      ],
      "metadata": {
        "id": "eMmlKxCLMS19"
      },
      "execution_count": null,
      "outputs": []
    },
    {
      "cell_type": "code",
      "source": [
        "!cp /content/drive/MyDrive/WEIGHTS/CNNDetection_240421_0.1/model_epoch_best.pth -d /content/AIGCDetectBenchmark/weights"
      ],
      "metadata": {
        "id": "vzAWmO8iNFZC"
      },
      "execution_count": null,
      "outputs": []
    },
    {
      "cell_type": "code",
      "source": [
        "!python train.py --name FreDect --dataroot /content/AIGCDetectBenchmark/data/real_gen_dataset \\\n",
        " --detect_method FreDect --blur_prob 0.1 --blur_sig 0.0,3.0 --jpg_prob 0.1 --jpg_method cv2,pil --jpg_qual 30,100"
      ],
      "metadata": {
        "colab": {
          "base_uri": "https://localhost:8080/"
        },
        "id": "J17Cg4xCuKob",
        "outputId": "8675912f-82f8-4607-df9e-ff1096cfc7c1"
      },
      "execution_count": null,
      "outputs": [
        {
          "output_type": "stream",
          "name": "stdout",
          "text": [
            "----------------- Options ---------------\n",
            "                 CropSize: 224                           \n",
            "               batch_size: 64                            \n",
            "                    beta1: 0.9                           \n",
            "                blur_prob: 0.1                           \n",
            "                 blur_sig: 0.0,3.0                       \n",
            "          checkpoints_dir: ./checkpoints                 \n",
            "                  classes: ['airplane', 'bird', 'bicycle', 'boat', 'bottle', 'bus', 'car', 'cat', 'cow', 'chair', 'diningtable', 'dog', 'person', 'pottedplant', 'motorbike', 'tvmonitor', 'train', 'sheep', 'sofa', 'horse']\t[default: airplane,bird,bicycle,boat,bottle,bus,car,cat,cow,chair,diningtable,dog,person,pottedplant,motorbike,tvmonitor,train,sheep,sofa,horse]\n",
            "           continue_train: False                         \n",
            "                 data_aug: False                         \n",
            "                 dataroot: /content/AIGCDetectBenchmark/data/real_gen_dataset\t[default: /hotdata/share/AIGCDetect]\n",
            "            detect_method: FreDect                       \t[default: CNNSpot]\n",
            "          earlystop_epoch: 5                             \n",
            "              epoch_count: 1                             \n",
            "             fix_backbone: False                         \n",
            "                init_gain: 0.02                          \n",
            "                init_type: normal                        \n",
            "                  isTrain: True                          \t[default: None]\n",
            "                    isVal: False                         \t[default: None]\n",
            "               jpg_method: cv2,pil                       \n",
            "                 jpg_prob: 0.1                           \n",
            "                 jpg_qual: 30,100                        \n",
            "               last_epoch: -1                            \n",
            "                 loadSize: 256                           \n",
            "                loss_freq: 400                           \n",
            "                       lr: 0.0001                        \n",
            "                     mode: binary                        \n",
            "                     name: FreDect                       \t[default: experiment_name]\n",
            "                new_optim: False                         \n",
            "                    niter: 1000                          \n",
            "                  no_crop: False                         \n",
            "                  no_flip: False                         \n",
            "                no_resize: False                         \n",
            "                    optim: adam                          \n",
            "              results_dir: ./results/FreDect             \t[default: None]\n",
            "                rz_interp: bilinear                      \n",
            "          save_epoch_freq: 5                             \n",
            "         save_latest_freq: 2000                          \n",
            "              train_split: train                         \n",
            "                val_split: val                           \n",
            "             weight_decay: 0.0                           \n",
            "----------------- End -------------------\n",
            "#training images = 56\n"
          ]
        }
      ]
    },
    {
      "cell_type": "code",
      "source": [
        "!python eval_all.py --detect_method FreDect --model_path /content/AIGCDetectBenchmark/weights/fredect_model_epoch_best.pth"
      ],
      "metadata": {
        "id": "19VIBcPsI5lX",
        "outputId": "0cb69e24-5310-44ae-dbc9-7145e582e6f8",
        "colab": {
          "base_uri": "https://localhost:8080/"
        }
      },
      "execution_count": null,
      "outputs": [
        {
          "output_type": "stream",
          "name": "stdout",
          "text": [
            "data/RealFakeDB_tiny_test\n",
            "----------------- Options ---------------\n",
            "                 CropSize: 224                           \n",
            "           DIRE_modelpath: ./weights/preprocessing/lsun_bedroom.pt\n",
            "          LGrad_modelpath: ./weights/preprocessing/karras2019stylegan-bedrooms-256x256_discriminator.pth\n",
            "            LNP_modelpath: ./weights/preprocessing/sidd_rgb.pth\n",
            "               batch_size: 64                            \n",
            "                 blur_sig: 1.0                           \n",
            "            detect_method: FreDect                       \t[default: CNNSpot]\n",
            "                  isTrain: False                         \t[default: None]\n",
            "                    isVal: False                         \t[default: None]\n",
            "               jpg_method: pil                           \n",
            "                 jpg_qual: 95                            \n",
            "                 loadSize: 256                           \n",
            "               model_path: /content/AIGCDetectBenchmark/weights/fredect_model_epoch_best.pth\t[default: ./weights/classifier/CNNSpot.pth]\n",
            "                  no_crop: False                         \n",
            "                  no_flip: False                         \n",
            "                no_resize: False                         \n",
            "               noise_type: None                          \n",
            "              results_dir: ./results/FreDect             \t[default: None]\n",
            "                rz_interp: bilinear                      \n",
            "----------------- End -------------------\n",
            "fredect_model_epoch_best model testing on...\n",
            "(test) acc: 0.499; ap: 0.4444090716860979;  r_acc: 0.0, f_acc: 0.998\n"
          ]
        }
      ]
    },
    {
      "cell_type": "code",
      "source": [
        "!unzip /content/drive/MyDrive/WEIGHTS/240427_FreDect_checkpoint.zip"
      ],
      "metadata": {
        "id": "i-WXaGdEcrbD"
      },
      "execution_count": null,
      "outputs": []
    },
    {
      "cell_type": "code",
      "source": [
        "!unzip /content/drive/MyDrive/DATASETS/Common/real_gen_dataset.zip -d data/real_gen_dataset"
      ],
      "metadata": {
        "id": "G9g2F58gSiW4"
      },
      "execution_count": null,
      "outputs": []
    },
    {
      "cell_type": "code",
      "source": [],
      "metadata": {
        "id": "mjDP2YEYStJ-"
      },
      "execution_count": null,
      "outputs": []
    }
  ]
}