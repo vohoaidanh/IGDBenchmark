{
 "cells": [
  {
   "cell_type": "code",
   "execution_count": 10,
   "metadata": {
    "colab": {
     "base_uri": "https://localhost:8080/"
    },
    "id": "QspwbLO_H_SF",
    "outputId": "3aff573a-603d-4f77-c340-55ac3bb2248e"
   },
   "outputs": [
    {
     "name": "stdout",
     "output_type": "stream",
     "text": [
      "Cloning into 'DIRE'...\n",
      "remote: Enumerating objects: 76, done.\u001b[K\n",
      "remote: Counting objects: 100% (76/76), done.\u001b[K\n",
      "remote: Compressing objects: 100% (62/62), done.\u001b[K\n",
      "remote: Total 76 (delta 18), reused 71 (delta 13), pack-reused 0\u001b[K\n",
      "Receiving objects: 100% (76/76), 1.96 MiB | 17.72 MiB/s, done.\n",
      "Resolving deltas: 100% (18/18), done.\n"
     ]
    }
   ],
   "source": [
    "!git clone https://github.com/vohoaidanh/DIRE.git"
   ]
  },
  {
   "cell_type": "code",
   "execution_count": 1,
   "metadata": {
    "colab": {
     "base_uri": "https://localhost:8080/"
    },
    "id": "IFU_7d8vIZym",
    "outputId": "4e6cae79-4db2-4044-dd06-644505957174"
   },
   "outputs": [
    {
     "name": "stdout",
     "output_type": "stream",
     "text": [
      "--2024-04-24 05:24:15--  https://openaipublic.blob.core.windows.net/diffusion/jul-2021/256x256_diffusion_uncond.pt\n",
      "Resolving openaipublic.blob.core.windows.net (openaipublic.blob.core.windows.net)... 20.60.179.33\n",
      "Connecting to openaipublic.blob.core.windows.net (openaipublic.blob.core.windows.net)|20.60.179.33|:443... connected.\n",
      "HTTP request sent, awaiting response... 200 OK\n",
      "Length: 2211383297 (2.1G) [application/octet-stream]\n",
      "Saving to: ‘256x256_diffusion_uncond.pt’\n",
      "\n",
      "256x256_diffusion_u 100%[===================>]   2.06G  18.3MB/s    in 97s     \n",
      "\n",
      "2024-04-24 05:25:52 (21.8 MB/s) - ‘256x256_diffusion_uncond.pt’ saved [2211383297/2211383297]\n",
      "\n"
     ]
    }
   ],
   "source": [
    "!wget https://openaipublic.blob.core.windows.net/diffusion/jul-2021/256x256_diffusion_uncond.pt"
   ]
  },
  {
   "cell_type": "code",
   "execution_count": 3,
   "metadata": {
    "colab": {
     "base_uri": "https://localhost:8080/",
     "height": 35
    },
    "id": "Cz-nMdqoAhTQ",
    "outputId": "f9d07701-633a-4e9d-8c45-deaa896622d1"
   },
   "outputs": [
    {
     "data": {
      "text/plain": [
       "'/workspace/DIRE/models/256x256_diffusion_uncond.pt'"
      ]
     },
     "execution_count": 3,
     "metadata": {},
     "output_type": "execute_result"
    }
   ],
   "source": [
    "import os\n",
    "os.makedirs('DIRE/models', exist_ok=True)\n",
    "import shutil\n",
    "shutil.move('/workspace/256x256_diffusion_uncond.pt', '/workspace/DIRE/models')\n"
   ]
  },
  {
   "cell_type": "code",
   "execution_count": 4,
   "metadata": {
    "colab": {
     "base_uri": "https://localhost:8080/"
    },
    "id": "R3o1SjVbLQyP",
    "outputId": "526b2a6a-6bef-4567-ac1b-9b094c640cce"
   },
   "outputs": [
    {
     "name": "stdout",
     "output_type": "stream",
     "text": [
      "\u001b[33mWARNING: Running pip as the 'root' user can result in broken permissions and conflicting behaviour with the system package manager. It is recommended to use a virtual environment instead: https://pip.pypa.io/warnings/venv\u001b[0m\u001b[33m\n",
      "\u001b[0m\u001b[33mWARNING: Running pip as the 'root' user can result in broken permissions and conflicting behaviour with the system package manager. It is recommended to use a virtual environment instead: https://pip.pypa.io/warnings/venv\u001b[0m\u001b[33m\n",
      "\u001b[0m\u001b[33mWARNING: Running pip as the 'root' user can result in broken permissions and conflicting behaviour with the system package manager. It is recommended to use a virtual environment instead: https://pip.pypa.io/warnings/venv\u001b[0m\u001b[33m\n",
      "\u001b[0m\u001b[33mWARNING: Running pip as the 'root' user can result in broken permissions and conflicting behaviour with the system package manager. It is recommended to use a virtual environment instead: https://pip.pypa.io/warnings/venv\u001b[0m\u001b[33m\n",
      "\u001b[0mCollecting scipy\n",
      "  Downloading scipy-1.13.0-cp310-cp310-manylinux_2_17_x86_64.manylinux2014_x86_64.whl.metadata (60 kB)\n",
      "\u001b[2K     \u001b[90m━━━━━━━━━━━━━━━━━━━━━━━━━━━━━━━━━━━━━━━━\u001b[0m \u001b[32m60.6/60.6 kB\u001b[0m \u001b[31m3.4 MB/s\u001b[0m eta \u001b[36m0:00:00\u001b[0m\n",
      "\u001b[?25hRequirement already satisfied: numpy<2.3,>=1.22.4 in /opt/conda/lib/python3.10/site-packages (from scipy) (1.26.3)\n",
      "Downloading scipy-1.13.0-cp310-cp310-manylinux_2_17_x86_64.manylinux2014_x86_64.whl (38.6 MB)\n",
      "\u001b[2K   \u001b[90m━━━━━━━━━━━━━━━━━━━━━━━━━━━━━━━━━━━━━━━━\u001b[0m \u001b[32m38.6/38.6 MB\u001b[0m \u001b[31m63.9 MB/s\u001b[0m eta \u001b[36m0:00:00\u001b[0m00:01\u001b[0m00:01\u001b[0m\n",
      "\u001b[?25hInstalling collected packages: scipy\n",
      "Successfully installed scipy-1.13.0\n",
      "\u001b[33mWARNING: Running pip as the 'root' user can result in broken permissions and conflicting behaviour with the system package manager. It is recommended to use a virtual environment instead: https://pip.pypa.io/warnings/venv\u001b[0m\u001b[33m\n",
      "\u001b[0m"
     ]
    }
   ],
   "source": [
    "!pip install ftfy -q\n",
    "!pip install natsort -q\n",
    "!pip install tensorboardX -q\n",
    "!pip install blobfile -q\n",
    "#!pip install mpi4py -q\n",
    "!pip install scipy\n",
    "\n",
    "##############################\n",
    "\n",
    "!apt update\n",
    "!apt install unzip\n",
    "!pip install pandas -q\n",
    "!pip install scikit-image -q\n",
    "!pip install opencv-python -q\n",
    "!apt-get install -y libgl1-mesa-glx -q\n"
   ]
  },
  {
   "cell_type": "code",
   "execution_count": 12,
   "metadata": {
    "id": "XGNVy_QLJq9o"
   },
   "outputs": [
    {
     "name": "stdout",
     "output_type": "stream",
     "text": [
      "replace /workspace/DIRE/RealFakeDB512s/test/0_real/000000356941.jpg? [y]es, [n]o, [A]ll, [N]one, [r]ename: ^C\n"
     ]
    }
   ],
   "source": [
    "#@title Unzip dataset\n",
    "#!cp /content/drive/MyDrive/DATASETS/RealFakeDB_tiny.zip -d /content\n",
    "dataset_zip_file = '/workspace/RealFakeDB512s.zip' #@param {type:\"string\"}\n",
    "unzip_to = '/workspace/DIRE/RealFakeDB512s' #@param {type:\"string\"}\n",
    "!unzip -q $dataset_zip_file -d $unzip_to"
   ]
  },
  {
   "cell_type": "code",
   "execution_count": 13,
   "metadata": {
    "colab": {
     "base_uri": "https://localhost:8080/"
    },
    "id": "l_4Sw1IgKuuk",
    "outputId": "d750690c-e4ff-4c44-a6a2-5d6009d5fd22"
   },
   "outputs": [
    {
     "name": "stdout",
     "output_type": "stream",
     "text": [
      "/workspace/DIRE\n"
     ]
    }
   ],
   "source": [
    "%cd /workspace/DIRE"
   ]
  },
  {
   "cell_type": "markdown",
   "metadata": {
    "id": "CW5aayVZqmat"
   },
   "source": [
    "#Process for test set\n",
    "(We need to remove all lines related to multi-GPU configuration in compe_dire.py before run)"
   ]
  },
  {
   "cell_type": "markdown",
   "metadata": {
    "id": "6cDw1NXuyFds"
   },
   "source": [
    "#Process for train set"
   ]
  },
  {
   "cell_type": "code",
   "execution_count": null,
   "metadata": {
    "id": "OpOUxhLnzRwk"
   },
   "outputs": [],
   "source": [
    "import os\n",
    "image_list = []\n",
    "extensions = ['.jpg', '.png', '.gif', '.bmp', '.webp']  # Add more extensions as needed\n",
    "def getname(base_dir):\n",
    "    for dirpath, dirnames, filenames in os.walk(base_dir):\n",
    "        if len(filenames) > 0:\n",
    "            imgs = [filename for filename in filenames if any(ext in filename for ext in extensions)]\n",
    "            image_list.extend(imgs)\n",
    "    return image_list\n"
   ]
  },
  {
   "cell_type": "code",
   "execution_count": null,
   "metadata": {
    "id": "6UyTNUAQBkGU"
   },
   "outputs": [],
   "source": [
    "image_list=[]\n",
    "image_list = getname('/content/drive/MyDrive/DATASETS/DIRE/RealFakeDB_tiny/dire_test')\n"
   ]
  },
  {
   "cell_type": "code",
   "execution_count": null,
   "metadata": {
    "colab": {
     "base_uri": "https://localhost:8080/"
    },
    "id": "K_aTR_WPBuuE",
    "outputId": "b4f6cb45-4ed1-4eaa-a213-f26bd81567d4"
   },
   "outputs": [
    {
     "data": {
      "text/plain": [
       "992"
      ]
     },
     "execution_count": 16,
     "metadata": {},
     "output_type": "execute_result"
    }
   ],
   "source": [
    "len(image_list)"
   ]
  },
  {
   "cell_type": "code",
   "execution_count": null,
   "metadata": {
    "id": "V2EgZO8X17iM"
   },
   "outputs": [],
   "source": [
    "#@title Remove all items existed in $image_list before run\n",
    "data_dir = '/workspace/DIRE/RealFakeDB512s' #@param {type:\"string\"}\n",
    "c=0\n",
    "for dirpath, dirnames, filenames in os.walk(data_dir):\n",
    "    if len(filenames) >0:\n",
    "        for file in filenames:\n",
    "            if file in image_list:\n",
    "                c+=1\n",
    "                full_name = os.path.join(dirpath, file)\n",
    "                os.remove(full_name)\n",
    "                print('removed {}:{}:'.format(c,full_name))\n",
    "\n",
    "samples = len(os.listdir(data_dir + '/0_real')) + len(os.listdir(data_dir + '/1_fake'))\n",
    "print('num sample remain :', samples)"
   ]
  },
  {
   "cell_type": "code",
   "execution_count": 8,
   "metadata": {
    "colab": {
     "base_uri": "https://localhost:8080/",
     "height": 61
    },
    "id": "f0LPnGR87RW8",
    "outputId": "5f6b5034-1670-4abf-f161-fe26a1657698"
   },
   "outputs": [
    {
     "data": {
      "text/html": [
       "<audio src=\"https://oobabooga.github.io/silence.m4a\" controls>\n"
      ],
      "text/plain": [
       "<IPython.core.display.HTML object>"
      ]
     },
     "metadata": {},
     "output_type": "display_data"
    }
   ],
   "source": [
    "#@title 1. Keep this tab alive to prevent Colab from disconnecting you { display-mode: \"form\" }\n",
    "\n",
    "#@markdown Press play on the music player that will appear below:\n",
    "%%html\n",
    "<audio src=\"https://oobabooga.github.io/silence.m4a\" controls>"
   ]
  },
  {
   "cell_type": "code",
   "execution_count": null,
   "metadata": {
    "colab": {
     "base_uri": "https://localhost:8080/"
    },
    "id": "K51KzT6x1_DY",
    "outputId": "92f592fb-eb52-423e-eb22-b4f719a7d1d9"
   },
   "outputs": [
    {
     "name": "stdout",
     "output_type": "stream",
     "text": [
      "recons_test:  recons_val\n",
      "dire_test:  dire_val\n",
      "num_samples 3000\n",
      "Logging to /workspace/DIRE/out_put/RealFakeDB512s/recons_val/0_real\n",
      "Namespace(images_dir='/workspace/DIRE/RealFakeDB512s/val/0_real', recons_dir='/workspace/DIRE/out_put/RealFakeDB512s/recons_val/0_real', dire_dir='/workspace/DIRE/out_put/RealFakeDB512s/dire_val/0_real', clip_denoised=True, num_samples=3000, batch_size=1, use_ddim=True, model_path='models/256x256_diffusion_uncond.pt', real_step=0, continue_reverse=False, has_subfolder=False, image_size=256, num_channels=256, num_res_blocks=2, num_heads=4, num_heads_upsample=-1, num_head_channels=64, attention_resolutions='32,16,8', channel_mult='', dropout=0.1, class_cond=False, use_checkpoint=False, use_scale_shift_norm=True, resblock_updown=True, use_fp16=True, use_new_attention_order=False, learn_sigma=True, diffusion_steps=1000, noise_schedule='linear', timestep_respacing='ddim20', use_kl=False, predict_xstart=False, rescale_timesteps=False, rescale_learned_sigmas=False)\n",
      "loading model to:  cuda\n",
      "have created model and diffusion\n",
      "We have : 3000  images\n",
      "dataset length: 3000\n",
      "have created data loader\n",
      "computing recons & DIRE ...\n",
      "have finished 1 samples\n",
      "have finished 3 samples\n",
      "have finished 6 samples\n",
      "have finished 10 samples\n",
      "have finished 15 samples\n",
      "have finished 21 samples\n"
     ]
    }
   ],
   "source": [
    "# edit add wepb to        if \".\" in entry and ext.lower() in [\"jpg\", \"jpeg\", \"png\", \"gif\", \"webp\"]: in image_dataset.py gaussioan_diffusion\n",
    "set_data = 'val'\n",
    "class_name = '0_real'\n",
    "\n",
    "recons_test = f'recons_{set_data}'\n",
    "dire_test = f'dire_{set_data}'\n",
    "num_samples = len(os.listdir( '/workspace/DIRE/RealFakeDB512s/' + set_data + '/' + class_name))\n",
    "print('recons_test: ',recons_test)\n",
    "print('dire_test: ', dire_test)\n",
    "print('num_samples',num_samples)\n",
    "\n",
    "!python guided-diffusion/compute_dire.py \\\n",
    "--model_path models/256x256_diffusion_uncond.pt \\\n",
    "--attention_resolutions 32,16,8 \\\n",
    "--class_cond False \\\n",
    "--diffusion_steps 1000 --dropout 0.1 --image_size 256 --learn_sigma True --noise_schedule linear --num_channels 256 \\\n",
    "--num_head_channels 64 --num_res_blocks 2 --resblock_updown True --use_fp16 True --use_scale_shift_norm True \\\n",
    "--images_dir   /workspace/DIRE/RealFakeDB512s/$set_data/$class_name \\\n",
    "--recons_dir  /workspace/DIRE/out_put/RealFakeDB512s/$recons_test/$class_name \\\n",
    "--dire_dir   /workspace/DIRE/out_put/RealFakeDB512s/$dire_test/$class_name \\\n",
    "--batch_size 1 --num_samples $num_samples  --timestep_respacing ddim20 --use_ddim True \\\n",
    "--has_subfolder False"
   ]
  },
  {
   "cell_type": "code",
   "execution_count": null,
   "metadata": {
    "id": "rfSTzNaoWvNB"
   },
   "outputs": [],
   "source": []
  }
 ],
 "metadata": {
  "accelerator": "GPU",
  "colab": {
   "gpuType": "T4",
   "provenance": []
  },
  "kernelspec": {
   "display_name": "Python 3 (ipykernel)",
   "language": "python",
   "name": "python3"
  },
  "language_info": {
   "codemirror_mode": {
    "name": "ipython",
    "version": 3
   },
   "file_extension": ".py",
   "mimetype": "text/x-python",
   "name": "python",
   "nbconvert_exporter": "python",
   "pygments_lexer": "ipython3",
   "version": "3.10.13"
  }
 },
 "nbformat": 4,
 "nbformat_minor": 4
}
